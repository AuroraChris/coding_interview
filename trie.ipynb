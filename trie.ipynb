{
 "cells": [
  {
   "cell_type": "markdown",
   "metadata": {},
   "source": [
    "# Trie\n",
    "store word in dictionary  \n",
    "search word in dictionary return True if exist\n",
    "\n",
    "Time Complexity:   \n",
    "Insert: O(key_length)  \n",
    "search: O(key_length)"
   ]
  },
  {
   "cell_type": "code",
   "execution_count": 2,
   "metadata": {},
   "outputs": [],
   "source": [
    "class Trie:\n",
    "    head = {}\n",
    "\n",
    "    def add(self, word):\n",
    "        cur = self.head\n",
    "        for ch in word:\n",
    "            if ch not in cur:\n",
    "                cur[ch] = {}\n",
    "            cur = cur[ch]\n",
    "        # * denotes the Trie has this word as item\n",
    "        # if * doesn't exist, Trie doesn't have this word but as a path to longer word\n",
    "        cur['*'] = True\n",
    "\n",
    "    def search(self, word):\n",
    "        cur = self.head\n",
    "        for ch in word:\n",
    "            if ch not in cur:\n",
    "                return False\n",
    "            cur = cur[ch]\n",
    "\n",
    "        if '*' in cur:\n",
    "            return True\n",
    "        else:\n",
    "            return False"
   ]
  },
  {
   "cell_type": "code",
   "execution_count": 3,
   "metadata": {},
   "outputs": [
    {
     "name": "stdout",
     "output_type": "stream",
     "text": [
      "True\n",
      "True\n",
      "False\n",
      "False\n"
     ]
    }
   ],
   "source": [
    "dictionary = Trie()\n",
    "\n",
    "dictionary.add(\"hi\")\n",
    "dictionary.add(\"hello\")\n",
    "print(dictionary.search(\"hi\"))\n",
    "print(dictionary.search(\"hello\"))\n",
    "print(dictionary.search(\"hel\"))\n",
    "print(dictionary.search(\"hey\"))"
   ]
  }
 ],
 "metadata": {
  "kernelspec": {
   "display_name": "Python 3",
   "language": "python",
   "name": "python3"
  },
  "language_info": {
   "codemirror_mode": {
    "name": "ipython",
    "version": 3
   },
   "file_extension": ".py",
   "mimetype": "text/x-python",
   "name": "python",
   "nbconvert_exporter": "python",
   "pygments_lexer": "ipython3",
   "version": "3.6.4"
  }
 },
 "nbformat": 4,
 "nbformat_minor": 2
}
