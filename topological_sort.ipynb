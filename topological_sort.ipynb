{
 "cells": [
  {
   "cell_type": "markdown",
   "metadata": {},
   "source": [
    "# topology sort\n",
    "In Directed Acyclic Graph (DAG), when A->B, A must comes before B in the ordering.  \n",
    "Implement topology sort to visit all vertice in the graph"
   ]
  },
  {
   "cell_type": "code",
   "execution_count": 50,
   "metadata": {},
   "outputs": [
    {
     "data": {
      "text/plain": [
       "'\\na ---> d ---> e <--- c\\n       ^\\n       |\\n       b\\n'"
      ]
     },
     "execution_count": 50,
     "metadata": {},
     "output_type": "execute_result"
    }
   ],
   "source": [
    "\"\"\"\n",
    "a ---> d ---> e <--- c\n",
    "       ^\n",
    "       |\n",
    "       b\n",
    "\"\"\""
   ]
  },
  {
   "cell_type": "code",
   "execution_count": 40,
   "metadata": {},
   "outputs": [],
   "source": [
    "from collections import defaultdict "
   ]
  },
  {
   "cell_type": "markdown",
   "metadata": {},
   "source": [
    "store edge information in adjacency list"
   ]
  },
  {
   "cell_type": "code",
   "execution_count": 41,
   "metadata": {},
   "outputs": [],
   "source": [
    "adjacency_list = defaultdict()\n",
    "adjacency_list['a'] = ['d']\n",
    "adjacency_list['b'] = ['d']\n",
    "adjacency_list['c'] = ['e']\n",
    "adjacency_list['d'] = ['e']\n",
    "adjacency_list['e'] = []"
   ]
  },
  {
   "cell_type": "markdown",
   "metadata": {},
   "source": [
    "store visited vertex information in visited_list"
   ]
  },
  {
   "cell_type": "code",
   "execution_count": 43,
   "metadata": {},
   "outputs": [],
   "source": [
    "visited_list = defaultdict()\n",
    "visited_list['a'] = False\n",
    "visited_list['b'] = False\n",
    "visited_list['c'] = False\n",
    "visited_list['d'] = False\n",
    "visited_list['e'] = False"
   ]
  },
  {
   "cell_type": "code",
   "execution_count": 46,
   "metadata": {},
   "outputs": [],
   "source": [
    "output_stack = []"
   ]
  },
  {
   "cell_type": "markdown",
   "metadata": {},
   "source": [
    "once visit vertex, change visited_list value to True so we don't revisit it again.  \n",
    "recursively run topology sort to the neighbors in adjacency list.  \n",
    "once all the neighbors are visited, put the current vertex in the output stack."
   ]
  },
  {
   "cell_type": "code",
   "execution_count": 45,
   "metadata": {},
   "outputs": [],
   "source": [
    "def topology_sort(vertex):\n",
    "    if not visited_list[vertex]:\n",
    "        visited_list[vertex] = True\n",
    "        for neighbor in adjacency_list[vertex]:\n",
    "            topology_sort(neighbor)\n",
    "        output_stack.insert(0, vertex)"
   ]
  },
  {
   "cell_type": "markdown",
   "metadata": {},
   "source": [
    "iterate and run topology sort from the first vertex to last vertex."
   ]
  },
  {
   "cell_type": "code",
   "execution_count": 32,
   "metadata": {},
   "outputs": [],
   "source": [
    "for vertex in visited_list:\n",
    "    topology_sort(vertex)"
   ]
  },
  {
   "cell_type": "code",
   "execution_count": 34,
   "metadata": {},
   "outputs": [
    {
     "data": {
      "text/plain": [
       "['c', 'b', 'a', 'd', 'e']"
      ]
     },
     "execution_count": 34,
     "metadata": {},
     "output_type": "execute_result"
    }
   ],
   "source": [
    "output_stack"
   ]
  },
  {
   "cell_type": "markdown",
   "metadata": {},
   "source": [
    "# time complexity: \n",
    "O(V+E)\n",
    "# space complexity: \n",
    "2 dictionaries, 1 list required"
   ]
  }
 ],
 "metadata": {
  "kernelspec": {
   "display_name": "Python 3",
   "language": "python",
   "name": "python3"
  },
  "language_info": {
   "codemirror_mode": {
    "name": "ipython",
    "version": 3
   },
   "file_extension": ".py",
   "mimetype": "text/x-python",
   "name": "python",
   "nbconvert_exporter": "python",
   "pygments_lexer": "ipython3",
   "version": "3.6.4"
  }
 },
 "nbformat": 4,
 "nbformat_minor": 2
}
