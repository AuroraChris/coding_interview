{
 "cells": [
  {
   "cell_type": "code",
   "execution_count": 13,
   "metadata": {},
   "outputs": [
    {
     "data": {
      "text/plain": [
       "'\\nInverting Binary Tree below,\\n     1\\n   /     2     3\\n / \\\\   / 4   5 6   7\\n\\nOutput will be below binary tree.\\n     1\\n   /     3     2\\n / \\\\   / 7   6 5   4\\n\\n------------------------------------\\n\\nInverting Binary Tree below,\\n     1\\n   /     2     3\\n /       4         7\\n\\n------------\\nOutput will be below binary tree.\\n     1\\n   /     3     2\\n /       7         4\\n\\nTime Complexity: O(n)\\nSpace Complexity: O(1)\\n'"
      ]
     },
     "execution_count": 13,
     "metadata": {},
     "output_type": "execute_result"
    }
   ],
   "source": [
    "\"\"\"\n",
    "Inverting Binary Tree below,\n",
    "     1\n",
    "   /   \\\n",
    "  2     3\n",
    " / \\   / \\\n",
    "4   5 6   7\n",
    "\n",
    "Output will be below binary tree.\n",
    "     1\n",
    "   /   \\\n",
    "  3     2\n",
    " / \\   / \\\n",
    "7   6 5   4\n",
    "\n",
    "------------------------------------\n",
    "\n",
    "Inverting Binary Tree below,\n",
    "     1\n",
    "   /   \\\n",
    "  2     3\n",
    " /       \\\n",
    "4         7\n",
    "\n",
    "------------\n",
    "Output will be below binary tree.\n",
    "     1\n",
    "   /   \\\n",
    "  3     2\n",
    " /       \\\n",
    "7         4\n",
    "\n",
    "Time Complexity: O(n)\n",
    "Space Complexity: O(1)\n",
    "\"\"\""
   ]
  },
  {
   "cell_type": "code",
   "execution_count": 14,
   "metadata": {},
   "outputs": [],
   "source": [
    "class TreeNode:\n",
    "    def __init__(self, x):\n",
    "        self.val = x\n",
    "        self.left = None\n",
    "        self.right = None"
   ]
  },
  {
   "cell_type": "code",
   "execution_count": 15,
   "metadata": {},
   "outputs": [],
   "source": [
    "def invertTree(node):\n",
    "    \"\"\"\n",
    "    :type node: TreeNode\n",
    "    :rtype: TreeNode\n",
    "    \"\"\"\n",
    "    if node is None:\n",
    "        return None\n",
    "\n",
    "    tmp = None\n",
    "    tmp = node.left\n",
    "    node.left = node.right\n",
    "    node.right = tmp\n",
    "\n",
    "    invertTree(node.left)\n",
    "    invertTree(node.right)\n",
    "\n",
    "    return node"
   ]
  },
  {
   "cell_type": "code",
   "execution_count": 16,
   "metadata": {},
   "outputs": [],
   "source": [
    "def printTree(root):\n",
    "    print(root.val)\n",
    "    if root.left:\n",
    "        printTree(root.left)\n",
    "    if root.right:\n",
    "        printTree(root.right)"
   ]
  },
  {
   "cell_type": "code",
   "execution_count": 17,
   "metadata": {},
   "outputs": [
    {
     "name": "stdout",
     "output_type": "stream",
     "text": [
      "1\n",
      "3\n",
      "7\n",
      "6\n",
      "2\n",
      "5\n",
      "4\n"
     ]
    }
   ],
   "source": [
    "sample_tree = TreeNode(1)\n",
    "sample_tree.left = TreeNode(2)\n",
    "sample_tree.right = TreeNode(3)\n",
    "sample_tree.left.left = TreeNode(4)\n",
    "sample_tree.left.right = TreeNode(5)\n",
    "sample_tree.right.left = TreeNode(6)\n",
    "sample_tree.right.right = TreeNode(7)\n",
    "\n",
    "invertTree(sample_tree)\n",
    "printTree(sample_tree)"
   ]
  },
  {
   "cell_type": "code",
   "execution_count": 18,
   "metadata": {},
   "outputs": [
    {
     "name": "stdout",
     "output_type": "stream",
     "text": [
      "1\n",
      "3\n",
      "7\n",
      "2\n",
      "4\n"
     ]
    }
   ],
   "source": [
    "sample_tree = TreeNode(1)\n",
    "sample_tree.left = TreeNode(2)\n",
    "sample_tree.right = TreeNode(3)\n",
    "sample_tree.left.left = TreeNode(4)\n",
    "sample_tree.left.right = None\n",
    "sample_tree.right.left = None\n",
    "sample_tree.right.right = TreeNode(7)\n",
    "\n",
    "invertTree(sample_tree)\n",
    "printTree(sample_tree)"
   ]
  },
  {
   "cell_type": "code",
   "execution_count": null,
   "metadata": {},
   "outputs": [],
   "source": []
  }
 ],
 "metadata": {
  "kernelspec": {
   "display_name": "Python 3",
   "language": "python",
   "name": "python3"
  },
  "language_info": {
   "codemirror_mode": {
    "name": "ipython",
    "version": 3
   },
   "file_extension": ".py",
   "mimetype": "text/x-python",
   "name": "python",
   "nbconvert_exporter": "python",
   "pygments_lexer": "ipython3",
   "version": "3.6.4"
  }
 },
 "nbformat": 4,
 "nbformat_minor": 2
}
