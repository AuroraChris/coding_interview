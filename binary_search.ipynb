{
 "cells": [
  {
   "cell_type": "markdown",
   "metadata": {},
   "source": [
    "# Binary Search\n",
    "Let's suppose you are running automatic build system.  \n",
    "[S, S ,S, F, F, F, F]  (S: build success, F: build failed)  \n",
    "this example shows one developer pushed bad code after third build, and  \n",
    "we can see build failure from fourth build.\n",
    "\n",
    "Find first failed build in time complexity O(log N)"
   ]
  },
  {
   "cell_type": "code",
   "execution_count": 1,
   "metadata": {},
   "outputs": [],
   "source": [
    "def binary_search(input, l, r):\n",
    "    if len(input) < 1:\n",
    "        return -1\n",
    "\n",
    "    while l < r:\n",
    "        mid = (l + r) // 2\n",
    "        if input[mid] == \"F\":\n",
    "            r = mid\n",
    "        else:\n",
    "            l = mid + 1\n",
    "\n",
    "    return l if input[l] == \"F\" else -1"
   ]
  },
  {
   "cell_type": "code",
   "execution_count": 2,
   "metadata": {},
   "outputs": [
    {
     "name": "stdout",
     "output_type": "stream",
     "text": [
      "3\n",
      "0\n",
      "-1\n",
      "-1\n",
      "-1\n"
     ]
    }
   ],
   "source": [
    "input = [\"S\", \"S\", \"S\", \"F\", \"F\", \"F\", \"F\", \"F\", \"F\", \"F\"]\n",
    "idx = binary_search(input, 0 , len(input)-1)\n",
    "print(idx)\n",
    "\n",
    "input = [\"F\", \"F\", \"F\"]\n",
    "idx = binary_search(input, 0 , len(input)-1)\n",
    "print(idx)\n",
    "\n",
    "input = [\"S\", \"S\", \"S\"]\n",
    "idx = binary_search(input, 0 , len(input)-1)\n",
    "print(idx)\n",
    "\n",
    "input = [\"S\"]\n",
    "idx = binary_search(input, 0 , len(input)-1)\n",
    "print(idx)\n",
    "\n",
    "input = []\n",
    "idx = binary_search(input, 0 , len(input)-1)\n",
    "print(idx)"
   ]
  }
 ],
 "metadata": {
  "kernelspec": {
   "display_name": "Python 3",
   "language": "python",
   "name": "python3"
  },
  "language_info": {
   "codemirror_mode": {
    "name": "ipython",
    "version": 3
   },
   "file_extension": ".py",
   "mimetype": "text/x-python",
   "name": "python",
   "nbconvert_exporter": "python",
   "pygments_lexer": "ipython3",
   "version": "3.6.4"
  }
 },
 "nbformat": 4,
 "nbformat_minor": 2
}
