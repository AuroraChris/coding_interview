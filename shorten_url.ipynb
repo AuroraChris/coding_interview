{
 "cells": [
  {
   "cell_type": "markdown",
   "metadata": {},
   "source": [
    "# Implement URL shortner\n",
    "how will you implement URL shortner?  \n",
    "The shorten URL should be unique for any URLs.\n",
    "\n",
    "ex)  https://www.youtube.com/watch?v=rkt34Yt4KIo&list=LLxP77kNgVfiiG6CXZ5WMuAQ -> short_url.com/abcde"
   ]
  },
  {
   "cell_type": "markdown",
   "metadata": {},
   "source": [
    "## approach with dictionary\n",
    "we can use dictionary (key: original url, value: numeric id).  \n",
    "when new url comes, we can simply give new id (latest id + 1) which always be unique.  \n",
    "rather than returning id as shorten url, we apply base 62 encoding so we can compress base10 to base62"
   ]
  },
  {
   "cell_type": "code",
   "execution_count": 149,
   "metadata": {},
   "outputs": [],
   "source": [
    "class URL_Shortener:\n",
    "    # suppose, we already have 10 billion urls\n",
    "    id = 10000000000\n",
    "    # store url to id in order not to have duplicated url with different id\n",
    "    url2id = {}\n",
    "    \n",
    "    def shorten_url(self, original_url):\n",
    "        if original_url in self.url2id:\n",
    "            id = self.url2id[original_url]\n",
    "            shorten_url = self.encode(id)\n",
    "        else:\n",
    "            # store url2id in order not to have duplicated url with different id in the future\n",
    "            self.url2id[original_url] = self.id\n",
    "            shorten_url = self.encode(self.id)\n",
    "            # increase cnt for next url\n",
    "            self.id += 1\n",
    "        \n",
    "        return \"short_url.com/\"+shorten_url\n",
    "    \n",
    "    def encode(self, id):\n",
    "        # base 62 characters\n",
    "        characters = \"0123456789abcdefghijklmnopqrstuvwxyzABCDEFGHIJKLMNOPQRSTUVWXYZ\"\n",
    "        base = len(characters)\n",
    "        ret = []\n",
    "        # convert base10 id into base62 id for having alphanumeric shorten url\n",
    "        while id > 0:\n",
    "            val = id % base\n",
    "            ret.append(characters[val])\n",
    "            id = id // base\n",
    "        # since ret has reversed order of base62 id, reverse ret before return it\n",
    "        return \"\".join(ret[::-1])"
   ]
  },
  {
   "cell_type": "code",
   "execution_count": 153,
   "metadata": {},
   "outputs": [
    {
     "name": "stdout",
     "output_type": "stream",
     "text": [
      "short_url.com/aUKYOA\n",
      "short_url.com/aUKYOA\n",
      "short_url.com/aUKYOB\n",
      "short_url.com/aUKYOC\n",
      "short_url.com/aUKYOA\n"
     ]
    }
   ],
   "source": [
    "shortener = URL_Shortener()\n",
    "print(shortener.shorten_url(\"goooooooooooooogle.com\"))\n",
    "print(shortener.shorten_url(\"goooooooooooooogle.com\"))\n",
    "print(shortener.shorten_url(\"veryloooooooongurl.com\"))\n",
    "print(shortener.shorten_url(\"helllloooooooooooo.com\"))\n",
    "print(shortener.shorten_url(\"https://coding_interview.com/questions/183658/replacing-letters-with-number\"))"
   ]
  },
  {
   "cell_type": "markdown",
   "metadata": {},
   "source": [
    "## Time Complexity: O( n * log_62(id) )\n",
    "Adding one item to dictionary takes O(1), so if we have n items adding new item takes O(n).  \n",
    "converting base10 to base62 takes O(log_62(id)).  \n",
    "therefore time complexity is O( n*log_62(id) )"
   ]
  },
  {
   "cell_type": "markdown",
   "metadata": {},
   "source": [
    "## Space Complexity: O(n)\n",
    "since we store original id to id value in url2id dictionary, space complexity is O(n)"
   ]
  }
 ],
 "metadata": {
  "kernelspec": {
   "display_name": "Python 3",
   "language": "python",
   "name": "python3"
  },
  "language_info": {
   "codemirror_mode": {
    "name": "ipython",
    "version": 3
   },
   "file_extension": ".py",
   "mimetype": "text/x-python",
   "name": "python",
   "nbconvert_exporter": "python",
   "pygments_lexer": "ipython3",
   "version": "3.6.4"
  }
 },
 "nbformat": 4,
 "nbformat_minor": 2
}
